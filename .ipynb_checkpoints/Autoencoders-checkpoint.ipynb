{
 "cells": [
  {
   "cell_type": "markdown",
   "metadata": {},
   "source": [
    "### Autoencoding"
   ]
  },
  {
   "cell_type": "markdown",
   "metadata": {},
   "source": [
    "---"
   ]
  },
  {
   "cell_type": "markdown",
   "metadata": {},
   "source": [
    "**Autoencoding** is a data compression algorithm where the comprehension and decompression functions are learned automatically drom data\n",
    "\n",
    "1. Autoencoder is an unsupervised neural network model\n",
    "2. It tries to predict x from x without the need for any labels\n",
    "3. Autoencoders can learn data projections that are more interesting than PCA or other basic techniques.\n"
   ]
  },
  {
   "cell_type": "markdown",
   "metadata": {},
   "source": [
    "### Restricted Boltzmann Machines \n",
    " \n",
    ">  A very popular type of autoencoders.\n",
    "\n",
    "\n",
    "\n",
    "**Applications:**\n",
    "    \n",
    "   1. Fixing imbalanced datasets - RBMs learn the input in order to be able to regenerate it, then they can learn the distribution of the minority class in an imbalance dataset ,and then generate more data points of that class, transforming the imbalance dataset into a balanced data set.\n",
    "\n",
    "\n",
    "   2. Estimating missing values in different features of a data set.\n",
    "    \n",
    "    \n",
    "   3. Automatic feature extraction of especially unstructured data."
   ]
  },
  {
   "cell_type": "code",
   "execution_count": null,
   "metadata": {},
   "outputs": [],
   "source": []
  }
 ],
 "metadata": {
  "kernelspec": {
   "display_name": "Python 3",
   "language": "python",
   "name": "python3"
  },
  "language_info": {
   "codemirror_mode": {
    "name": "ipython",
    "version": 3
   },
   "file_extension": ".py",
   "mimetype": "text/x-python",
   "name": "python",
   "nbconvert_exporter": "python",
   "pygments_lexer": "ipython3",
   "version": "3.6.5"
  }
 },
 "nbformat": 4,
 "nbformat_minor": 2
}
