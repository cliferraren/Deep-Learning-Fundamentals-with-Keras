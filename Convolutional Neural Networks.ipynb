{
 "cells": [
  {
   "cell_type": "markdown",
   "metadata": {},
   "source": [
    "### CNN"
   ]
  },
  {
   "cell_type": "markdown",
   "metadata": {},
   "source": [
    "---"
   ]
  },
  {
   "cell_type": "markdown",
   "metadata": {},
   "source": [
    "* Convolutional Neural Network (CNNs) are similar to the typical neural network.\n",
    "\n",
    "* CNNs take inputs as images\n",
    "\n",
    "* This allows us to incorporate properties that make the training process much more efficient.\n",
    "\n",
    "> Solve problems involving image recognition,object detection, and other computer vision applications."
   ]
  },
  {
   "cell_type": "markdown",
   "metadata": {},
   "source": [
    "---"
   ]
  },
  {
   "cell_type": "markdown",
   "metadata": {},
   "source": [
    "### Import Keras and Packages"
   ]
  },
  {
   "cell_type": "code",
   "execution_count": 1,
   "metadata": {},
   "outputs": [
    {
     "name": "stderr",
     "output_type": "stream",
     "text": [
      "Using TensorFlow backend.\n"
     ]
    }
   ],
   "source": [
    "import keras\n",
    "from keras.models import Sequential\n",
    "from keras.layers import Dense\n",
    "from keras.utils import to_categorical"
   ]
  },
  {
   "cell_type": "markdown",
   "metadata": {},
   "source": [
    "For convolutional neural networks, we need to Import additional packages."
   ]
  },
  {
   "cell_type": "code",
   "execution_count": 2,
   "metadata": {},
   "outputs": [],
   "source": [
    "from keras.layers.convolutional import Conv2D # to add convolutional layers\n",
    "from keras.layers.convolutional import MaxPooling2D # to add pooling layers\n",
    "from keras.layers import Flatten # to flatten data for fully connected layers"
   ]
  },
  {
   "cell_type": "markdown",
   "metadata": {},
   "source": [
    "#### Data"
   ]
  },
  {
   "cell_type": "code",
   "execution_count": 3,
   "metadata": {},
   "outputs": [
    {
     "name": "stdout",
     "output_type": "stream",
     "text": [
      "Downloading data from https://s3.amazonaws.com/img-datasets/mnist.npz\n",
      "11493376/11490434 [==============================] - 45s 4us/step\n"
     ]
    }
   ],
   "source": [
    "# import data\n",
    "from keras.datasets import mnist\n",
    "\n",
    "# load data\n",
    "(X_train, y_train), (X_test, y_test) = mnist.load_data()"
   ]
  },
  {
   "cell_type": "code",
   "execution_count": 4,
   "metadata": {},
   "outputs": [],
   "source": [
    "# reshape to be [samples][pixels][width][height]\n",
    "X_train = X_train.reshape(X_train.shape[0], 28, 28, 1).astype('float32')\n",
    "X_test = X_test.reshape(X_test.shape[0], 28, 28, 1).astype('float32')"
   ]
  },
  {
   "cell_type": "code",
   "execution_count": 5,
   "metadata": {},
   "outputs": [],
   "source": [
    "#Normalize the pixel values to be between 0 and 1\n",
    "X_train = X_train / 255 # normalize training data\n",
    "X_test = X_test / 255 # normalize test data"
   ]
  },
  {
   "cell_type": "code",
   "execution_count": 6,
   "metadata": {},
   "outputs": [],
   "source": [
    "#Convert the target variable into binary categories\n",
    "y_train = to_categorical(y_train)\n",
    "y_test = to_categorical(y_test)\n",
    "\n",
    "num_classes = y_test.shape[1] # number of categories"
   ]
  },
  {
   "cell_type": "markdown",
   "metadata": {},
   "source": [
    "#### Define Function that Creates CNN Model"
   ]
  },
  {
   "cell_type": "code",
   "execution_count": 7,
   "metadata": {},
   "outputs": [],
   "source": [
    "def convolutional_model():\n",
    "    \n",
    "    # create model\n",
    "    model = Sequential()\n",
    "    model.add(Conv2D(16, (5, 5), strides=(1, 1), activation='relu', input_shape=(28, 28, 1)))\n",
    "    model.add(MaxPooling2D(pool_size=(2, 2), strides=(2, 2)))\n",
    "    \n",
    "    model.add(Flatten())\n",
    "    model.add(Dense(100, activation='relu'))\n",
    "    model.add(Dense(num_classes, activation='softmax'))\n",
    "    \n",
    "    # compile model\n",
    "    model.compile(optimizer='adam', loss='categorical_crossentropy',  metrics=['accuracy'])\n",
    "    return model"
   ]
  },
  {
   "cell_type": "markdown",
   "metadata": {},
   "source": [
    "#### Build the Model"
   ]
  },
  {
   "cell_type": "code",
   "execution_count": 8,
   "metadata": {},
   "outputs": [],
   "source": [
    "# build the model\n",
    "model = convolutional_model()"
   ]
  },
  {
   "cell_type": "markdown",
   "metadata": {},
   "source": [
    "#### Fit/Train the Model"
   ]
  },
  {
   "cell_type": "code",
   "execution_count": 9,
   "metadata": {},
   "outputs": [
    {
     "name": "stdout",
     "output_type": "stream",
     "text": [
      "Train on 60000 samples, validate on 10000 samples\n",
      "Epoch 1/10\n",
      " - 14s - loss: 0.3002 - acc: 0.9157 - val_loss: 0.1115 - val_acc: 0.9662\n",
      "Epoch 2/10\n",
      " - 14s - loss: 0.0923 - acc: 0.9734 - val_loss: 0.0691 - val_acc: 0.9777\n",
      "Epoch 3/10\n",
      " - 14s - loss: 0.0611 - acc: 0.9819 - val_loss: 0.0477 - val_acc: 0.9846\n",
      "Epoch 4/10\n",
      " - 15s - loss: 0.0459 - acc: 0.9862 - val_loss: 0.0467 - val_acc: 0.9847\n",
      "Epoch 5/10\n",
      " - 15s - loss: 0.0378 - acc: 0.9884 - val_loss: 0.0381 - val_acc: 0.9876\n",
      "Epoch 6/10\n",
      " - 15s - loss: 0.0303 - acc: 0.9907 - val_loss: 0.0394 - val_acc: 0.9871\n",
      "Epoch 7/10\n",
      " - 15s - loss: 0.0250 - acc: 0.9925 - val_loss: 0.0356 - val_acc: 0.9891\n",
      "Epoch 8/10\n",
      " - 15s - loss: 0.0204 - acc: 0.9937 - val_loss: 0.0369 - val_acc: 0.9881\n",
      "Epoch 9/10\n",
      " - 15s - loss: 0.0173 - acc: 0.9946 - val_loss: 0.0358 - val_acc: 0.9882\n",
      "Epoch 10/10\n",
      " - 15s - loss: 0.0147 - acc: 0.9955 - val_loss: 0.0383 - val_acc: 0.9873\n"
     ]
    },
    {
     "data": {
      "text/plain": [
       "<keras.callbacks.History at 0x7feddf081f28>"
      ]
     },
     "execution_count": 9,
     "metadata": {},
     "output_type": "execute_result"
    }
   ],
   "source": [
    "# fit the model\n",
    "model.fit(X_train, y_train, \n",
    "          validation_data=(X_test, y_test), \n",
    "          epochs=10, \n",
    "          batch_size=200, \n",
    "          verbose=2)"
   ]
  },
  {
   "cell_type": "markdown",
   "metadata": {},
   "source": [
    "#### Evaluate the Model"
   ]
  },
  {
   "cell_type": "code",
   "execution_count": 10,
   "metadata": {},
   "outputs": [
    {
     "name": "stdout",
     "output_type": "stream",
     "text": [
      "Accuracy: 0.9873 \n",
      " Error: 1.2700000000000102\n"
     ]
    }
   ],
   "source": [
    "# evaluate the model\n",
    "scores = model.evaluate(X_test, y_test, verbose=0)\n",
    "print(\"Accuracy: {} \\n Error: {}\".format(scores[1], 100-scores[1]*100))"
   ]
  },
  {
   "cell_type": "markdown",
   "metadata": {},
   "source": [
    "---"
   ]
  },
  {
   "cell_type": "markdown",
   "metadata": {},
   "source": [
    "### Convolutional Layer with two sets of convolutional and pooling layers"
   ]
  },
  {
   "cell_type": "code",
   "execution_count": 11,
   "metadata": {},
   "outputs": [],
   "source": [
    "def convolutional_model2():\n",
    "    \n",
    "    # create model\n",
    "    model = Sequential()\n",
    "    model.add(Conv2D(16, (5, 5), activation='relu', input_shape=(28, 28, 1)))\n",
    "    model.add(MaxPooling2D(pool_size=(2, 2), strides=(2, 2)))\n",
    "    \n",
    "    model.add(Conv2D(8, (2, 2), activation='relu'))\n",
    "    model.add(MaxPooling2D(pool_size=(2, 2), strides=(2, 2)))\n",
    "    \n",
    "    model.add(Flatten())\n",
    "    model.add(Dense(100, activation='relu'))\n",
    "    model.add(Dense(num_classes, activation='softmax'))\n",
    "    \n",
    "    # Compile model\n",
    "    model.compile(optimizer='adam', loss='categorical_crossentropy',  metrics=['accuracy'])\n",
    "    return model"
   ]
  },
  {
   "cell_type": "code",
   "execution_count": 12,
   "metadata": {},
   "outputs": [
    {
     "name": "stdout",
     "output_type": "stream",
     "text": [
      "Train on 60000 samples, validate on 10000 samples\n",
      "Epoch 1/10\n",
      " - 17s - loss: 0.4715 - acc: 0.8648 - val_loss: 0.1303 - val_acc: 0.9614\n",
      "Epoch 2/10\n",
      " - 17s - loss: 0.1159 - acc: 0.9656 - val_loss: 0.0821 - val_acc: 0.9758\n",
      "Epoch 3/10\n",
      " - 17s - loss: 0.0833 - acc: 0.9752 - val_loss: 0.0590 - val_acc: 0.9819\n",
      "Epoch 4/10\n",
      " - 17s - loss: 0.0671 - acc: 0.9796 - val_loss: 0.0521 - val_acc: 0.9845\n",
      "Epoch 5/10\n",
      " - 17s - loss: 0.0582 - acc: 0.9828 - val_loss: 0.0453 - val_acc: 0.9853\n",
      "Epoch 6/10\n",
      " - 17s - loss: 0.0502 - acc: 0.9846 - val_loss: 0.0399 - val_acc: 0.9879\n",
      "Epoch 7/10\n",
      " - 17s - loss: 0.0451 - acc: 0.9862 - val_loss: 0.0402 - val_acc: 0.9867\n",
      "Epoch 8/10\n",
      " - 18s - loss: 0.0397 - acc: 0.9877 - val_loss: 0.0354 - val_acc: 0.9887\n",
      "Epoch 9/10\n",
      " - 17s - loss: 0.0367 - acc: 0.9884 - val_loss: 0.0323 - val_acc: 0.9898\n",
      "Epoch 10/10\n",
      " - 17s - loss: 0.0338 - acc: 0.9888 - val_loss: 0.0327 - val_acc: 0.9897\n",
      "Accuracy: 0.9897 \n",
      " Error: 1.0300000000000011\n"
     ]
    }
   ],
   "source": [
    "# build the model\n",
    "model = convolutional_model2()\n",
    "\n",
    "# fit the model\n",
    "model.fit(X_train, y_train, validation_data=(X_test, y_test), epochs=10, batch_size=200, verbose=2)\n",
    "\n",
    "# evaluate the model\n",
    "scores = model.evaluate(X_test, y_test, verbose=0)\n",
    "print(\"Accuracy: {} \\n Error: {}\".format(scores[1], 100-scores[1]*100))"
   ]
  },
  {
   "cell_type": "code",
   "execution_count": null,
   "metadata": {},
   "outputs": [],
   "source": []
  }
 ],
 "metadata": {
  "kernelspec": {
   "display_name": "Python 3",
   "language": "python",
   "name": "python3"
  },
  "language_info": {
   "codemirror_mode": {
    "name": "ipython",
    "version": 3
   },
   "file_extension": ".py",
   "mimetype": "text/x-python",
   "name": "python",
   "nbconvert_exporter": "python",
   "pygments_lexer": "ipython3",
   "version": "3.6.5"
  }
 },
 "nbformat": 4,
 "nbformat_minor": 2
}
